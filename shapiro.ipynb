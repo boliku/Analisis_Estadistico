{
 "cells": [
  {
   "cell_type": "code",
   "execution_count": 1,
   "metadata": {},
   "outputs": [],
   "source": [
    "import numpy as np\n",
    "\n",
    "# Fijar la semilla para reproducibilidad\n",
    "np.random.seed(42)\n",
    "\n",
    "# Crear un conjunto de datos con valores al azar\n",
    "data = np.random.normal(loc=0, scale=1, size=1000)  # Datos normalmente distribuidos\n"
   ]
  },
  {
   "cell_type": "code",
   "execution_count": 3,
   "metadata": {},
   "outputs": [
    {
     "name": "stdout",
     "output_type": "stream",
     "text": [
      "p-valor: 0.6264819502830505\n"
     ]
    }
   ],
   "source": [
    "from scipy.stats import shapiro\n",
    "\n",
    "# Realizar el test de Shapiro-Wilk\n",
    "stat, p_value = shapiro(data)\n",
    "\n",
    "# Mostrar los resultados\n",
    "print(f'p-valor: {p_value}')"
   ]
  },
  {
   "cell_type": "code",
   "execution_count": 13,
   "metadata": {},
   "outputs": [
    {
     "name": "stdout",
     "output_type": "stream",
     "text": [
      "ShapiroResult(statistic=0.9986080527305603, pvalue=0.6264819502830505)\n",
      "ShapiroResult(statistic=0.9986080527305603, pvalue=0.6264819502830505)\n"
     ]
    }
   ],
   "source": [
    "import numpy as np\n",
    "from scipy.stats import shapiro\n",
    "\n",
    "# Fijar la semilla para reproducibilidad\n",
    "np.random.seed(42)\n",
    "\n",
    "# Crear un conjunto de datos con valores al azar\n",
    "data = np.random.normal(loc=0, scale=1, size=1000)  # Datos normalmente distribuidos\n",
    "\n",
    "# Realizar el test de Shapiro-Wilk\n",
    "Valor_1 = shapiro(data)\n",
    "Valor_2 = shapiro(data)\n",
    "\n",
    "print(shapiro(data))\n",
    "print(Valor_2)\n"
   ]
  }
 ],
 "metadata": {
  "kernelspec": {
   "display_name": "Python 3",
   "language": "python",
   "name": "python3"
  },
  "language_info": {
   "codemirror_mode": {
    "name": "ipython",
    "version": 3
   },
   "file_extension": ".py",
   "mimetype": "text/x-python",
   "name": "python",
   "nbconvert_exporter": "python",
   "pygments_lexer": "ipython3",
   "version": "3.10.5"
  }
 },
 "nbformat": 4,
 "nbformat_minor": 2
}
