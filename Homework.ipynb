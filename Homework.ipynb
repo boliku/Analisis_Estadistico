{
 "cells": [
  {
   "cell_type": "markdown",
   "metadata": {},
   "source": [
    "<center>\n",
    "    <img src=\"https://cf-courses-data.s3.us.cloud-object-storage.appdomain.cloud/IBMDeveloperSkillsNetwork-DS0105EN-SkillsNetwork/labs/Module2/images/SN_web_lightmode.png\" width=\"300\" alt=\"cognitiveclass.ai logo\"  />\n",
    "</center>\n"
   ]
  },
  {
   "cell_type": "markdown",
   "metadata": {},
   "source": [
    "#### Add your code below following the instructions given in the course\n"
   ]
  },
  {
   "cell_type": "markdown",
   "metadata": {},
   "source": [
    "<h1>My Jupyter Notebook on IBM Watson Studio</h1>"
   ]
  },
  {
   "cell_type": "markdown",
   "metadata": {},
   "source": [
    "**Matías Exequiel Cartisano**<br>\n",
    "Support Help Desk"
   ]
  },
  {
   "cell_type": "markdown",
   "metadata": {},
   "source": [
    "*Estoy interesado en la ciencia de datos porque me gustaría poder darle valor agregado a los datos que aparecen en los reportes mensuales que hacemos en mi trabajo actual.\n",
    "Sería un gran salto en mi carrera profesional*"
   ]
  },
  {
   "cell_type": "markdown",
   "metadata": {
    "tags": []
   },
   "source": [
    "<h3>El código de la siguiente línea debe multiplicar 5 por 10</h3>"
   ]
  },
  {
   "cell_type": "code",
   "execution_count": 2,
   "metadata": {},
   "outputs": [
    {
     "data": {
      "text/plain": [
       "50"
      ]
     },
     "execution_count": 2,
     "metadata": {},
     "output_type": "execute_result"
    }
   ],
   "source": [
    "5*10"
   ]
  },
  {
   "cell_type": "markdown",
   "metadata": {},
   "source": [
    "<ol>\n",
    "    <li>Lista Ordenada 1</li>\n",
    "    <li>Lista Ordenada 2</li>\n",
    "    <li>Lista Ordenada 3</li>\n",
    "    <ul>Lista No Ordenada 1</ul>\n",
    "    <ul>Lista No Ordenada 2</ul>\n",
    "    <ul>Lista No Ordenada 3</ul>\n",
    "</ol>\n",
    "<br>\n",
    "    <table>\n",
    "         <tr>\n",
    "             <td>Celda 1</td>\n",
    "             <td>Celda 2</td>\n",
    "             <td>Celda 3</td>\n",
    "        </tr>\n",
    "        <tr>\n",
    "            <td>Celda 4</td>\n",
    "            <td>Celda 5</td>\n",
    "            <td>Celda 6</td>\n",
    "        </tr>\n",
    "    </table>\n"
   ]
  },
  {
   "cell_type": "code",
   "execution_count": null,
   "metadata": {},
   "outputs": [],
   "source": []
  }
 ],
 "metadata": {
  "kernelspec": {
   "display_name": "Python",
   "language": "python",
   "name": "conda-env-python-py"
  },
  "language_info": {
   "codemirror_mode": {
    "name": "ipython",
    "version": 3
   },
   "file_extension": ".py",
   "mimetype": "text/x-python",
   "name": "python",
   "nbconvert_exporter": "python",
   "pygments_lexer": "ipython3",
   "version": "3.7.12"
  }
 },
 "nbformat": 4,
 "nbformat_minor": 4
}
